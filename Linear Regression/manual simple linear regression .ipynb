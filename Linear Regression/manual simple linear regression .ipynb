{
 "cells": [
  {
   "cell_type": "code",
   "execution_count": 1,
   "id": "98835e8e",
   "metadata": {},
   "outputs": [],
   "source": [
    "class linearRegression1:\n",
    "    def __init__(self,):\n",
    "        self.m= None\n",
    "        self.b=None\n",
    "    def fit(self,X_train,y_train):\n",
    "        num=0\n",
    "        dem=0\n",
    "        for i in range(len(X_train[0])):\n",
    "            num=num+((X_train[i]-X_train.mean())*(y_train[i]-y_train.mean()))\n",
    "            dem=dem+((X_train[i]-X_train.mean())*(X_train[i]-X_train.mean()))\n",
    "        self.m= num/dem\n",
    "        self.b=y_train.mean()-(X_train.mean()*self.m)\n",
    "    def predict(self,X_test):\n",
    "        return self.m * X_test + self.b\n",
    "   "
   ]
  },
  {
   "cell_type": "code",
   "execution_count": 11,
   "id": "2f7feafd",
   "metadata": {},
   "outputs": [],
   "source": [
    "import pandas as pd\n",
    "import numpy as np\n",
    "from sklearn.linear_model import LinearRegression"
   ]
  },
  {
   "cell_type": "code",
   "execution_count": 3,
   "id": "98050046",
   "metadata": {},
   "outputs": [
    {
     "data": {
      "text/html": [
       "<div>\n",
       "<style scoped>\n",
       "    .dataframe tbody tr th:only-of-type {\n",
       "        vertical-align: middle;\n",
       "    }\n",
       "\n",
       "    .dataframe tbody tr th {\n",
       "        vertical-align: top;\n",
       "    }\n",
       "\n",
       "    .dataframe thead th {\n",
       "        text-align: right;\n",
       "    }\n",
       "</style>\n",
       "<table border=\"1\" class=\"dataframe\">\n",
       "  <thead>\n",
       "    <tr style=\"text-align: right;\">\n",
       "      <th></th>\n",
       "      <th>cgpa</th>\n",
       "      <th>package</th>\n",
       "    </tr>\n",
       "  </thead>\n",
       "  <tbody>\n",
       "    <tr>\n",
       "      <th>0</th>\n",
       "      <td>6.89</td>\n",
       "      <td>3.26</td>\n",
       "    </tr>\n",
       "    <tr>\n",
       "      <th>1</th>\n",
       "      <td>5.12</td>\n",
       "      <td>1.98</td>\n",
       "    </tr>\n",
       "    <tr>\n",
       "      <th>2</th>\n",
       "      <td>7.82</td>\n",
       "      <td>3.25</td>\n",
       "    </tr>\n",
       "    <tr>\n",
       "      <th>3</th>\n",
       "      <td>7.42</td>\n",
       "      <td>3.67</td>\n",
       "    </tr>\n",
       "    <tr>\n",
       "      <th>4</th>\n",
       "      <td>6.94</td>\n",
       "      <td>3.57</td>\n",
       "    </tr>\n",
       "  </tbody>\n",
       "</table>\n",
       "</div>"
      ],
      "text/plain": [
       "   cgpa  package\n",
       "0  6.89     3.26\n",
       "1  5.12     1.98\n",
       "2  7.82     3.25\n",
       "3  7.42     3.67\n",
       "4  6.94     3.57"
      ]
     },
     "execution_count": 3,
     "metadata": {},
     "output_type": "execute_result"
    }
   ],
   "source": [
    "df=pd.read_csv(\"placement.csv\")\n",
    "df.head()"
   ]
  },
  {
   "cell_type": "code",
   "execution_count": 4,
   "id": "322a6fed",
   "metadata": {},
   "outputs": [],
   "source": [
    "X=df.iloc[:,:1].values\n",
    "y=df.iloc[:,-1].values"
   ]
  },
  {
   "cell_type": "code",
   "execution_count": 5,
   "id": "debc3c99",
   "metadata": {},
   "outputs": [],
   "source": [
    "from sklearn.model_selection import train_test_split\n",
    "X_train,X_test,y_train,y_test = train_test_split(X,y,test_size=0.2,random_state=2)"
   ]
  },
  {
   "cell_type": "code",
   "execution_count": 6,
   "id": "05fb6f2b",
   "metadata": {},
   "outputs": [],
   "source": [
    "lr = linearRegression1()"
   ]
  },
  {
   "cell_type": "code",
   "execution_count": 8,
   "id": "1600e865",
   "metadata": {},
   "outputs": [],
   "source": [
    "lr.fit(X_train,y_train)"
   ]
  },
  {
   "cell_type": "code",
   "execution_count": 9,
   "id": "3c984fe7",
   "metadata": {},
   "outputs": [],
   "source": [
    "a=lr.predict(X_test)"
   ]
  },
  {
   "cell_type": "code",
   "execution_count": 10,
   "id": "152ec24c",
   "metadata": {},
   "outputs": [
    {
     "name": "stdout",
     "output_type": "stream",
     "text": [
      "[[4.33969596]\n",
      " [3.13840067]\n",
      " [2.07151603]\n",
      " [2.35713869]\n",
      " [0.97102874]\n",
      " [1.1558434 ]\n",
      " [1.60107872]\n",
      " [2.89478134]\n",
      " [4.14648063]\n",
      " [2.90318201]\n",
      " [4.64211995]\n",
      " [3.76845065]\n",
      " [2.95358601]\n",
      " [2.09671803]\n",
      " [3.281212  ]\n",
      " [3.70124531]\n",
      " [1.40786339]\n",
      " [3.36521866]\n",
      " [2.96198667]\n",
      " [3.62563932]\n",
      " [2.33193669]\n",
      " [3.24760933]\n",
      " [2.78557268]\n",
      " [3.180404  ]\n",
      " [4.0288713 ]\n",
      " [2.80237401]\n",
      " [3.74324865]\n",
      " [3.51643065]\n",
      " [4.38169929]\n",
      " [1.43306539]\n",
      " [3.97846731]\n",
      " [3.31481466]\n",
      " [4.11287797]\n",
      " [2.67636401]\n",
      " [2.66796335]\n",
      " [3.40722199]\n",
      " [3.79365264]\n",
      " [2.41594336]\n",
      " [2.48314869]\n",
      " [2.56715535]]\n"
     ]
    }
   ],
   "source": [
    "print(a)"
   ]
  },
  {
   "cell_type": "code",
   "execution_count": 14,
   "id": "833ea6c0",
   "metadata": {},
   "outputs": [],
   "source": [
    "lr=linearRegression()\n",
    "lr.fit(X_train,y_train)\n",
    "b=lr.predict(X_test)"
   ]
  },
  {
   "cell_type": "code",
   "execution_count": 19,
   "id": "25805e15",
   "metadata": {},
   "outputs": [
    {
     "data": {
      "text/plain": [
       "array([[4.33969596],\n",
       "       [3.13840067],\n",
       "       [2.07151603],\n",
       "       [2.35713869],\n",
       "       [0.97102874],\n",
       "       [1.1558434 ],\n",
       "       [1.60107872],\n",
       "       [2.89478134],\n",
       "       [4.14648063],\n",
       "       [2.90318201],\n",
       "       [4.64211995],\n",
       "       [3.76845065],\n",
       "       [2.95358601],\n",
       "       [2.09671803],\n",
       "       [3.281212  ],\n",
       "       [3.70124531],\n",
       "       [1.40786339],\n",
       "       [3.36521866],\n",
       "       [2.96198667],\n",
       "       [3.62563932],\n",
       "       [2.33193669],\n",
       "       [3.24760933],\n",
       "       [2.78557268],\n",
       "       [3.180404  ],\n",
       "       [4.0288713 ],\n",
       "       [2.80237401],\n",
       "       [3.74324865],\n",
       "       [3.51643065],\n",
       "       [4.38169929],\n",
       "       [1.43306539],\n",
       "       [3.97846731],\n",
       "       [3.31481466],\n",
       "       [4.11287797],\n",
       "       [2.67636401],\n",
       "       [2.66796335],\n",
       "       [3.40722199],\n",
       "       [3.79365264],\n",
       "       [2.41594336],\n",
       "       [2.48314869],\n",
       "       [2.56715535]])"
      ]
     },
     "execution_count": 19,
     "metadata": {},
     "output_type": "execute_result"
    }
   ],
   "source": [
    "a"
   ]
  }
 ],
 "metadata": {
  "kernelspec": {
   "display_name": "Python 3 (ipykernel)",
   "language": "python",
   "name": "python3"
  },
  "language_info": {
   "codemirror_mode": {
    "name": "ipython",
    "version": 3
   },
   "file_extension": ".py",
   "mimetype": "text/x-python",
   "name": "python",
   "nbconvert_exporter": "python",
   "pygments_lexer": "ipython3",
   "version": "3.9.12"
  }
 },
 "nbformat": 4,
 "nbformat_minor": 5
}
