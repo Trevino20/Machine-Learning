{
 "cells": [
  {
   "cell_type": "markdown",
   "id": "9bcfbed1",
   "metadata": {
    "papermill": {
     "duration": 0.004265,
     "end_time": "2023-06-07T16:10:12.843468",
     "exception": false,
     "start_time": "2023-06-07T16:10:12.839203",
     "status": "completed"
    },
    "tags": []
   },
   "source": [
    "### k nearest neighbors\n",
    "* Indentify the data point that separated into several classes to predict the classification of new data point or samples point\n",
    "* It is lazy algorithm, memories the process\n",
    "* classify new point based on similarity measure. used eculident distance\n"
   ]
  },
  {
   "attachments": {
    "117a0063-97c8-4476-b6b6-ed70262e957b.png": {
     "image/png": "[encoded data removed]"
    }
   },
   "cell_type": "markdown",
   "id": "d6cf1557",
   "metadata": {
    "papermill": {
     "duration": 0.00336,
     "end_time": "2023-06-07T16:10:12.850782",
     "exception": false,
     "start_time": "2023-06-07T16:10:12.847422",
     "status": "completed"
    },
    "tags": []
   },
   "source": [
    "![k-nearest-neighbor-algorithm-for-machine-learning4.png](attachment:117a0063-97c8-4476-b6b6-ed70262e957b.png)"
   ]
  },
  {
   "attachments": {
    "fedb88d6-400b-44e2-87cb-e536c2e86d0c.png": {
     "image/png": "[encoded data removed]"
    }
   },
   "cell_type": "markdown",
   "id": "6c5ecf51",
   "metadata": {
    "papermill": {
     "duration": 0.003303,
     "end_time": "2023-06-07T16:10:12.857627",
     "exception": false,
     "start_time": "2023-06-07T16:10:12.854324",
     "status": "completed"
    },
    "tags": []
   },
   "source": [
    "![k-nearest-neighbor-algorithm-for-machine-learning5.png](attachment:fedb88d6-400b-44e2-87cb-e536c2e86d0c.png)"
   ]
  },
  {
   "cell_type": "markdown",
   "id": "4276b07e",
   "metadata": {
    "papermill": {
     "duration": 0.003329,
     "end_time": "2023-06-07T16:10:12.864598",
     "exception": false,
     "start_time": "2023-06-07T16:10:12.861269",
     "status": "completed"
    },
    "tags": []
   },
   "source": [
    "finding the nearest neighborig point from the data \n",
    "and k must be the odd number\n",
    "# Algorithm\n",
    "* load data \n",
    "* Initailized the K- value , k must be the odd number\n",
    "* For each sample in the training data.\n",
    "    * calculate the distance between query point and the cluster point\n",
    "    * add the distace and their index of example to an ordered collection\n",
    "* sort the distance ordered collection of distance and index from smaller to larger\n",
    "* get the labels of selected k entries\n",
    "  * If Regression problem :- Return mean\n",
    "  * If cassification problem :- return mode"
   ]
  },
  {
   "cell_type": "markdown",
   "id": "9b459dfb",
   "metadata": {
    "papermill": {
     "duration": 0.003237,
     "end_time": "2023-06-07T16:10:12.871289",
     "exception": false,
     "start_time": "2023-06-07T16:10:12.868052",
     "status": "completed"
    },
    "tags": []
   },
   "source": [
    "# Application of KNN\n",
    "* classification:-\n",
    "    * Image recommandation, text classification, sentiment analysis \n",
    "* Regression:- \n",
    "    * predict The continuous values, Housing prices prediction, and age group prediction\n",
    "* Anomaly detection:-\n",
    "    * KNN identify the outlier's between the data, it's easly remove the anomalies between the multiple columns in the dataset\n",
    "* Recommendation system:-\n",
    "    *  KNN can be used in collaborative filtering-based recommender systems. By finding similar users or items based on their preferences, KNN can suggest relevant items or users to a given user."
   ]
  },
  {
   "cell_type": "markdown",
   "id": "bb1e10bc",
   "metadata": {
    "papermill": {
     "duration": 0.003238,
     "end_time": "2023-06-07T16:10:12.877971",
     "exception": false,
     "start_time": "2023-06-07T16:10:12.874733",
     "status": "completed"
    },
    "tags": []
   },
   "source": [
    "* Advantages of KNN Algorithm:\n",
    "    * It is simple to implement.\n",
    "    * It is robust to the noisy training data\n",
    "    * It can be more effective if the training data is large.\n",
    "* Disadvantages of KNN Algorithm:\n",
    "  * Always needs to determine the value of K which may be complex some time.\n",
    "  * The computation cost is high because of calculating the distance between the data points for all    the training samples"
   ]
  },
  {
   "cell_type": "code",
   "execution_count": null,
   "id": "7c467685",
   "metadata": {
    "papermill": {
     "duration": 0.003222,
     "end_time": "2023-06-07T16:10:12.884688",
     "exception": false,
     "start_time": "2023-06-07T16:10:12.881466",
     "status": "completed"
    },
    "tags": []
   },
   "outputs": [],
   "source": []
  },
  {
   "cell_type": "code",
   "execution_count": 1,
   "id": "57d1b8d1",
   "metadata": {
    "execution": {
     "iopub.execute_input": "2023-06-07T16:10:12.893734Z",
     "iopub.status.busy": "2023-06-07T16:10:12.893074Z",
     "iopub.status.idle": "2023-06-07T16:10:14.033981Z",
     "shell.execute_reply": "2023-06-07T16:10:14.032849Z"
    },
    "papermill": {
     "duration": 1.148812,
     "end_time": "2023-06-07T16:10:14.036972",
     "exception": false,
     "start_time": "2023-06-07T16:10:12.888160",
     "status": "completed"
    },
    "tags": []
   },
   "outputs": [
    {
     "name": "stderr",
     "output_type": "stream",
     "text": [
      "/opt/conda/lib/python3.10/site-packages/scipy/__init__.py:146: UserWarning: A NumPy version >=1.16.5 and <1.23.0 is required for this version of SciPy (detected version 1.23.5\n",
      "  warnings.warn(f\"A NumPy version >={np_minversion} and <{np_maxversion}\"\n"
     ]
    }
   ],
   "source": [
    "# importing libraries  \n",
    "import numpy as nm  \n",
    "import matplotlib.pyplot as mtp  \n",
    "import pandas as pd  \n",
    "  \n",
    "#importing datasets  \n",
    "data_set= pd.read_csv('/kaggle/input/user-datacsv/User_Data.csv')  \n",
    "  \n",
    "#Extracting Independent and dependent Variable  \n",
    "x= data_set.iloc[:, [2,3]].values  \n",
    "y= data_set.iloc[:, 4].values  \n",
    "  \n",
    "# Splitting the dataset into training and test set.  \n",
    "from sklearn.model_selection import train_test_split  \n",
    "x_train, x_test, y_train, y_test= train_test_split(x, y, test_size= 0.25, random_state=0)  \n",
    "  \n",
    "#feature Scaling  \n",
    "from sklearn.preprocessing import StandardScaler    \n",
    "st_x= StandardScaler()    \n",
    "x_train= st_x.fit_transform(x_train)    \n",
    "x_test= st_x.transform(x_test)  "
   ]
  },
  {
   "cell_type": "markdown",
   "id": "931984f7",
   "metadata": {
    "papermill": {
     "duration": 0.003486,
     "end_time": "2023-06-07T16:10:14.044645",
     "exception": false,
     "start_time": "2023-06-07T16:10:14.041159",
     "status": "completed"
    },
    "tags": []
   },
   "source": [
    "# Fitting K-NN classifier to the Training data:\n",
    "* Now we will fit the K-NN classifier to the training data. To do this we will import the \n",
    "#### `KNeighborsClassifier` class of `Sklearn Neighbors` library. After importing the class, we will create the `Classifier` object of the class. The Parameter of this class will be\n",
    "* n_neighbors: To define the required neighbors of the algorithm. Usually, it takes 5.\n",
    "* metric='minkowski': This is the default parameter and it decides the distance between the points.\n",
    "* p=2: It is equivalent to the standard Euclidean metric.\n",
    "And then we will fit the classifier to the training data. Below is the code for it:"
   ]
  },
  {
   "cell_type": "code",
   "execution_count": 2,
   "id": "460dd41a",
   "metadata": {
    "execution": {
     "iopub.execute_input": "2023-06-07T16:10:14.054076Z",
     "iopub.status.busy": "2023-06-07T16:10:14.053124Z",
     "iopub.status.idle": "2023-06-07T16:10:14.268461Z",
     "shell.execute_reply": "2023-06-07T16:10:14.267413Z"
    },
    "papermill": {
     "duration": 0.222459,
     "end_time": "2023-06-07T16:10:14.270686",
     "exception": false,
     "start_time": "2023-06-07T16:10:14.048227",
     "status": "completed"
    },
    "tags": []
   },
   "outputs": [
    {
     "data": {
      "text/html": [
       "<style>#sk-container-id-1 {color: black;background-color: white;}#sk-container-id-1 pre{padding: 0;}#sk-container-id-1 div.sk-toggleable {background-color: white;}#sk-container-id-1 label.sk-toggleable__label {cursor: pointer;display: block;width: 100%;margin-bottom: 0;padding: 0.3em;box-sizing: border-box;text-align: center;}#sk-container-id-1 label.sk-toggleable__label-arrow:before {content: \"▸\";float: left;margin-right: 0.25em;color: #696969;}#sk-container-id-1 label.sk-toggleable__label-arrow:hover:before {color: black;}#sk-container-id-1 div.sk-estimator:hover label.sk-toggleable__label-arrow:before {color: black;}#sk-container-id-1 div.sk-toggleable__content {max-height: 0;max-width: 0;overflow: hidden;text-align: left;background-color: #f0f8ff;}#sk-container-id-1 div.sk-toggleable__content pre {margin: 0.2em;color: black;border-radius: 0.25em;background-color: #f0f8ff;}#sk-container-id-1 input.sk-toggleable__control:checked~div.sk-toggleable__content {max-height: 200px;max-width: 100%;overflow: auto;}#sk-container-id-1 input.sk-toggleable__control:checked~label.sk-toggleable__label-arrow:before {content: \"▾\";}#sk-container-id-1 div.sk-estimator input.sk-toggleable__control:checked~label.sk-toggleable__label {background-color: #d4ebff;}#sk-container-id-1 div.sk-label input.sk-toggleable__control:checked~label.sk-toggleable__label {background-color: #d4ebff;}#sk-container-id-1 input.sk-hidden--visually {border: 0;clip: rect(1px 1px 1px 1px);clip: rect(1px, 1px, 1px, 1px);height: 1px;margin: -1px;overflow: hidden;padding: 0;position: absolute;width: 1px;}#sk-container-id-1 div.sk-estimator {font-family: monospace;background-color: #f0f8ff;border: 1px dotted black;border-radius: 0.25em;box-sizing: border-box;margin-bottom: 0.5em;}#sk-container-id-1 div.sk-estimator:hover {background-color: #d4ebff;}#sk-container-id-1 div.sk-parallel-item::after {content: \"\";width: 100%;border-bottom: 1px solid gray;flex-grow: 1;}#sk-container-id-1 div.sk-label:hover label.sk-toggleable__label {background-color: #d4ebff;}#sk-container-id-1 div.sk-serial::before {content: \"\";position: absolute;border-left: 1px solid gray;box-sizing: border-box;top: 0;bottom: 0;left: 50%;z-index: 0;}#sk-container-id-1 div.sk-serial {display: flex;flex-direction: column;align-items: center;background-color: white;padding-right: 0.2em;padding-left: 0.2em;position: relative;}#sk-container-id-1 div.sk-item {position: relative;z-index: 1;}#sk-container-id-1 div.sk-parallel {display: flex;align-items: stretch;justify-content: center;background-color: white;position: relative;}#sk-container-id-1 div.sk-item::before, #sk-container-id-1 div.sk-parallel-item::before {content: \"\";position: absolute;border-left: 1px solid gray;box-sizing: border-box;top: 0;bottom: 0;left: 50%;z-index: -1;}#sk-container-id-1 div.sk-parallel-item {display: flex;flex-direction: column;z-index: 1;position: relative;background-color: white;}#sk-container-id-1 div.sk-parallel-item:first-child::after {align-self: flex-end;width: 50%;}#sk-container-id-1 div.sk-parallel-item:last-child::after {align-self: flex-start;width: 50%;}#sk-container-id-1 div.sk-parallel-item:only-child::after {width: 0;}#sk-container-id-1 div.sk-dashed-wrapped {border: 1px dashed gray;margin: 0 0.4em 0.5em 0.4em;box-sizing: border-box;padding-bottom: 0.4em;background-color: white;}#sk-container-id-1 div.sk-label label {font-family: monospace;font-weight: bold;display: inline-block;line-height: 1.2em;}#sk-container-id-1 div.sk-label-container {text-align: center;}#sk-container-id-1 div.sk-container {/* jupyter's `normalize.less` sets `[hidden] { display: none; }` but bootstrap.min.css set `[hidden] { display: none !important; }` so we also need the `!important` here to be able to override the default hidden behavior on the sphinx rendered scikit-learn.org. See: https://github.com/scikit-learn/scikit-learn/issues/21755 */display: inline-block !important;position: relative;}#sk-container-id-1 div.sk-text-repr-fallback {display: none;}</style><div id=\"sk-container-id-1\" class=\"sk-top-container\"><div class=\"sk-text-repr-fallback\"><pre>KNeighborsClassifier()</pre><b>In a Jupyter environment, please rerun this cell to show the HTML representation or trust the notebook. <br />On GitHub, the HTML representation is unable to render, please try loading this page with nbviewer.org.</b></div><div class=\"sk-container\" hidden><div class=\"sk-item\"><div class=\"sk-estimator sk-toggleable\"><input class=\"sk-toggleable__control sk-hidden--visually\" id=\"sk-estimator-id-1\" type=\"checkbox\" checked><label for=\"sk-estimator-id-1\" class=\"sk-toggleable__label sk-toggleable__label-arrow\">KNeighborsClassifier</label><div class=\"sk-toggleable__content\"><pre>KNeighborsClassifier()</pre></div></div></div></div></div>"
      ],
      "text/plain": [
       "KNeighborsClassifier()"
      ]
     },
     "execution_count": 2,
     "metadata": {},
     "output_type": "execute_result"
    }
   ],
   "source": [
    "#Fitting K-NN classifier to the training set  \n",
    "from sklearn.neighbors import KNeighborsClassifier  \n",
    "classifier= KNeighborsClassifier(n_neighbors=5, metric='minkowski', p=2 )  \n",
    "classifier.fit(x_train, y_train)  "
   ]
  },
  {
   "cell_type": "code",
   "execution_count": 3,
   "id": "4f2157ee",
   "metadata": {
    "execution": {
     "iopub.execute_input": "2023-06-07T16:10:14.279983Z",
     "iopub.status.busy": "2023-06-07T16:10:14.279673Z",
     "iopub.status.idle": "2023-06-07T16:10:14.289930Z",
     "shell.execute_reply": "2023-06-07T16:10:14.288931Z"
    },
    "papermill": {
     "duration": 0.017256,
     "end_time": "2023-06-07T16:10:14.291969",
     "exception": false,
     "start_time": "2023-06-07T16:10:14.274713",
     "status": "completed"
    },
    "tags": []
   },
   "outputs": [],
   "source": [
    "#Predicting the test set result  \n",
    "y_pred= classifier.predict(x_test)  "
   ]
  },
  {
   "cell_type": "code",
   "execution_count": 4,
   "id": "4afb474e",
   "metadata": {
    "execution": {
     "iopub.execute_input": "2023-06-07T16:10:14.301081Z",
     "iopub.status.busy": "2023-06-07T16:10:14.300741Z",
     "iopub.status.idle": "2023-06-07T16:10:14.308678Z",
     "shell.execute_reply": "2023-06-07T16:10:14.307881Z"
    },
    "papermill": {
     "duration": 0.014646,
     "end_time": "2023-06-07T16:10:14.310559",
     "exception": false,
     "start_time": "2023-06-07T16:10:14.295913",
     "status": "completed"
    },
    "tags": []
   },
   "outputs": [],
   "source": [
    "#Creating the Confusion matrix  \n",
    "from sklearn.metrics import confusion_matrix  \n",
    "cm= confusion_matrix(y_test, y_pred)  "
   ]
  },
  {
   "cell_type": "code",
   "execution_count": 5,
   "id": "1467d6ef",
   "metadata": {
    "execution": {
     "iopub.execute_input": "2023-06-07T16:10:14.319819Z",
     "iopub.status.busy": "2023-06-07T16:10:14.319507Z",
     "iopub.status.idle": "2023-06-07T16:10:14.325478Z",
     "shell.execute_reply": "2023-06-07T16:10:14.324556Z"
    },
    "papermill": {
     "duration": 0.012891,
     "end_time": "2023-06-07T16:10:14.327529",
     "exception": false,
     "start_time": "2023-06-07T16:10:14.314638",
     "status": "completed"
    },
    "tags": []
   },
   "outputs": [
    {
     "data": {
      "text/plain": [
       "array([[64,  4],\n",
       "       [ 3, 29]])"
      ]
     },
     "execution_count": 5,
     "metadata": {},
     "output_type": "execute_result"
    }
   ],
   "source": [
    "cm"
   ]
  },
  {
   "cell_type": "code",
   "execution_count": 6,
   "id": "23d34bbc",
   "metadata": {
    "execution": {
     "iopub.execute_input": "2023-06-07T16:10:14.337236Z",
     "iopub.status.busy": "2023-06-07T16:10:14.336925Z",
     "iopub.status.idle": "2023-06-07T16:10:23.486516Z",
     "shell.execute_reply": "2023-06-07T16:10:23.485386Z"
    },
    "papermill": {
     "duration": 9.157095,
     "end_time": "2023-06-07T16:10:23.488729",
     "exception": false,
     "start_time": "2023-06-07T16:10:14.331634",
     "status": "completed"
    },
    "tags": []
   },
   "outputs": [
    {
     "data": {
      "image/png": "[encoded data removed]",
      "text/plain": [
       "<Figure size 640x480 with 1 Axes>"
      ]
     },
     "metadata": {},
     "output_type": "display_data"
    }
   ],
   "source": [
    "#Visulaizing the trianing set result  \n",
    "from matplotlib.colors import ListedColormap  \n",
    "x_set, y_set = x_train, y_train  \n",
    "x1, x2 = nm.meshgrid(nm.arange(start = x_set[:, 0].min() - 1, stop = x_set[:, 0].max() + 1, step  =0.01),  \n",
    "nm.arange(start = x_set[:, 1].min() - 1, stop = x_set[:, 1].max() + 1, step = 0.01))  \n",
    "mtp.contourf(x1, x2, classifier.predict(nm.array([x1.ravel(), x2.ravel()]).T).reshape(x1.shape),  \n",
    "alpha = 0.75, cmap = ListedColormap(('red','green' )))  \n",
    "mtp.xlim(x1.min(), x1.max())  \n",
    "mtp.ylim(x2.min(), x2.max())  \n",
    "for i, j in enumerate(nm.unique(y_set)):  \n",
    "    mtp.scatter(x_set[y_set == j, 0], x_set[y_set == j, 1],  \n",
    "        c = ListedColormap(('red', 'green'))(i), label = j)  \n",
    "mtp.title('K-NN Algorithm (Training set)')  \n",
    "mtp.xlabel('Age')  \n",
    "mtp.ylabel('Estimated Salary')  \n",
    "mtp.legend()  \n",
    "mtp.show()  "
   ]
  }
 ],
 "metadata": {
  "kernelspec": {
   "display_name": "Python 3",
   "language": "python",
   "name": "python3"
  },
  "language_info": {
   "codemirror_mode": {
    "name": "ipython",
    "version": 3
   },
   "file_extension": ".py",
   "mimetype": "text/x-python",
   "name": "python",
   "nbconvert_exporter": "python",
   "pygments_lexer": "ipython3",
   "version": "3.10.10"
  },
  "papermill": {
   "default_parameters": {},
   "duration": 21.654028,
   "end_time": "2023-06-07T16:10:24.313200",
   "environment_variables": {},
   "exception": null,
   "input_path": "__notebook__.ipynb",
   "output_path": "__notebook__.ipynb",
   "parameters": {},
   "start_time": "2023-06-07T16:10:02.659172",
   "version": "2.4.0"
  }
 },
 "nbformat": 4,
 "nbformat_minor": 5
}
